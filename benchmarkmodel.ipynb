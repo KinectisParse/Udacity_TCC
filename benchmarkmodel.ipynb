{
 "cells": [
  {
   "cell_type": "markdown",
   "metadata": {},
   "source": [
    "## Bibliotecas "
   ]
  },
  {
   "cell_type": "code",
   "execution_count": 23,
   "metadata": {},
   "outputs": [],
   "source": [
    "\n",
    "import  statistics\n",
    "import  numpy  as np\n",
    "import  pandas as pd\n",
    "import  matplotlib.pyplot as plt\n",
    "import  seaborn as sns; sns.set()\n",
    "import  sklearn.metrics as mt\n",
    "\n",
    "from    time import time \n",
    "from    sklearn.metrics import confusion_matrix\n",
    "from    sklearn.tree import DecisionTreeClassifier   \n",
    "from    sklearn.cross_validation import train_test_split    \n"
   ]
  },
  {
   "cell_type": "markdown",
   "metadata": {},
   "source": [
    "## Funções de Apoio"
   ]
  },
  {
   "cell_type": "code",
   "execution_count": 24,
   "metadata": {},
   "outputs": [],
   "source": [
    "\n",
    "# Nenhuma função ainda escrita...\n"
   ]
  },
  {
   "cell_type": "markdown",
   "metadata": {},
   "source": [
    "## Análise Base de Dados & Limpeza"
   ]
  },
  {
   "cell_type": "code",
   "execution_count": 25,
   "metadata": {},
   "outputs": [
    {
     "data": {
      "text/html": [
       "<div>\n",
       "<style scoped>\n",
       "    .dataframe tbody tr th:only-of-type {\n",
       "        vertical-align: middle;\n",
       "    }\n",
       "\n",
       "    .dataframe tbody tr th {\n",
       "        vertical-align: top;\n",
       "    }\n",
       "\n",
       "    .dataframe thead th {\n",
       "        text-align: right;\n",
       "    }\n",
       "</style>\n",
       "<table border=\"1\" class=\"dataframe\">\n",
       "  <thead>\n",
       "    <tr style=\"text-align: right;\">\n",
       "      <th></th>\n",
       "      <th>id_cliente</th>\n",
       "      <th>cla_cliente</th>\n",
       "      <th>tot_orcamento</th>\n",
       "      <th>fat_cliente</th>\n",
       "      <th>des_orcamento</th>\n",
       "      <th>por_desconto</th>\n",
       "      <th>fec_orcamentos</th>\n",
       "      <th>rec_orcamentos</th>\n",
       "    </tr>\n",
       "  </thead>\n",
       "  <tbody>\n",
       "    <tr>\n",
       "      <th>0</th>\n",
       "      <td>100</td>\n",
       "      <td>L</td>\n",
       "      <td>7290</td>\n",
       "      <td>7070</td>\n",
       "      <td>220</td>\n",
       "      <td>00,03</td>\n",
       "      <td>2</td>\n",
       "      <td>9</td>\n",
       "    </tr>\n",
       "    <tr>\n",
       "      <th>1</th>\n",
       "      <td>101</td>\n",
       "      <td>J</td>\n",
       "      <td>6050</td>\n",
       "      <td>5980</td>\n",
       "      <td>70</td>\n",
       "      <td>00,01</td>\n",
       "      <td>6</td>\n",
       "      <td>1</td>\n",
       "    </tr>\n",
       "    <tr>\n",
       "      <th>2</th>\n",
       "      <td>102</td>\n",
       "      <td>F</td>\n",
       "      <td>15210</td>\n",
       "      <td>14290</td>\n",
       "      <td>920</td>\n",
       "      <td>00,06</td>\n",
       "      <td>5</td>\n",
       "      <td>6</td>\n",
       "    </tr>\n",
       "    <tr>\n",
       "      <th>3</th>\n",
       "      <td>103</td>\n",
       "      <td>F</td>\n",
       "      <td>11540</td>\n",
       "      <td>11300</td>\n",
       "      <td>240</td>\n",
       "      <td>00,02</td>\n",
       "      <td>1</td>\n",
       "      <td>9</td>\n",
       "    </tr>\n",
       "    <tr>\n",
       "      <th>4</th>\n",
       "      <td>104</td>\n",
       "      <td>K</td>\n",
       "      <td>1900</td>\n",
       "      <td>1820</td>\n",
       "      <td>80</td>\n",
       "      <td>00,04</td>\n",
       "      <td>6</td>\n",
       "      <td>6</td>\n",
       "    </tr>\n",
       "  </tbody>\n",
       "</table>\n",
       "</div>"
      ],
      "text/plain": [
       "   id_cliente cla_cliente  tot_orcamento  fat_cliente  des_orcamento  \\\n",
       "0         100           L           7290         7070            220   \n",
       "1         101           J           6050         5980             70   \n",
       "2         102           F          15210        14290            920   \n",
       "3         103           F          11540        11300            240   \n",
       "4         104           K           1900         1820             80   \n",
       "\n",
       "  por_desconto  fec_orcamentos  rec_orcamentos  \n",
       "0        00,03               2               9  \n",
       "1        00,01               6               1  \n",
       "2        00,06               5               6  \n",
       "3        00,02               1               9  \n",
       "4        00,04               6               6  "
      ]
     },
     "execution_count": 25,
     "metadata": {},
     "output_type": "execute_result"
    }
   ],
   "source": [
    "\n",
    "# carrega base de dados\n",
    "df  =  pd.read_csv( '1. baseDeDados_Original.csv' )\n",
    "\n",
    "# exibe os 5 primeiro registros\n",
    "df.head( 5 )\n"
   ]
  },
  {
   "cell_type": "code",
   "execution_count": 26,
   "metadata": {},
   "outputs": [
    {
     "data": {
      "text/html": [
       "<div>\n",
       "<style scoped>\n",
       "    .dataframe tbody tr th:only-of-type {\n",
       "        vertical-align: middle;\n",
       "    }\n",
       "\n",
       "    .dataframe tbody tr th {\n",
       "        vertical-align: top;\n",
       "    }\n",
       "\n",
       "    .dataframe thead th {\n",
       "        text-align: right;\n",
       "    }\n",
       "</style>\n",
       "<table border=\"1\" class=\"dataframe\">\n",
       "  <thead>\n",
       "    <tr style=\"text-align: right;\">\n",
       "      <th></th>\n",
       "      <th>id_cliente</th>\n",
       "      <th>classificação</th>\n",
       "      <th>total orçamento</th>\n",
       "      <th>faturamento cliente</th>\n",
       "      <th>desconto orçamento</th>\n",
       "      <th>porcentagem de desconto</th>\n",
       "      <th>qtd. fechados</th>\n",
       "      <th>qtd. recusados</th>\n",
       "    </tr>\n",
       "  </thead>\n",
       "  <tbody>\n",
       "    <tr>\n",
       "      <th>0</th>\n",
       "      <td>100</td>\n",
       "      <td>L</td>\n",
       "      <td>7290</td>\n",
       "      <td>7070</td>\n",
       "      <td>220</td>\n",
       "      <td>00,03</td>\n",
       "      <td>2</td>\n",
       "      <td>9</td>\n",
       "    </tr>\n",
       "    <tr>\n",
       "      <th>1</th>\n",
       "      <td>101</td>\n",
       "      <td>J</td>\n",
       "      <td>6050</td>\n",
       "      <td>5980</td>\n",
       "      <td>70</td>\n",
       "      <td>00,01</td>\n",
       "      <td>6</td>\n",
       "      <td>1</td>\n",
       "    </tr>\n",
       "    <tr>\n",
       "      <th>2</th>\n",
       "      <td>102</td>\n",
       "      <td>F</td>\n",
       "      <td>15210</td>\n",
       "      <td>14290</td>\n",
       "      <td>920</td>\n",
       "      <td>00,06</td>\n",
       "      <td>5</td>\n",
       "      <td>6</td>\n",
       "    </tr>\n",
       "    <tr>\n",
       "      <th>3</th>\n",
       "      <td>103</td>\n",
       "      <td>F</td>\n",
       "      <td>11540</td>\n",
       "      <td>11300</td>\n",
       "      <td>240</td>\n",
       "      <td>00,02</td>\n",
       "      <td>1</td>\n",
       "      <td>9</td>\n",
       "    </tr>\n",
       "    <tr>\n",
       "      <th>4</th>\n",
       "      <td>104</td>\n",
       "      <td>K</td>\n",
       "      <td>1900</td>\n",
       "      <td>1820</td>\n",
       "      <td>80</td>\n",
       "      <td>00,04</td>\n",
       "      <td>6</td>\n",
       "      <td>6</td>\n",
       "    </tr>\n",
       "  </tbody>\n",
       "</table>\n",
       "</div>"
      ],
      "text/plain": [
       "   id_cliente classificação  total orçamento  faturamento cliente  \\\n",
       "0         100             L             7290                 7070   \n",
       "1         101             J             6050                 5980   \n",
       "2         102             F            15210                14290   \n",
       "3         103             F            11540                11300   \n",
       "4         104             K             1900                 1820   \n",
       "\n",
       "   desconto orçamento porcentagem de desconto  qtd. fechados  qtd. recusados  \n",
       "0                 220                   00,03              2               9  \n",
       "1                  70                   00,01              6               1  \n",
       "2                 920                   00,06              5               6  \n",
       "3                 240                   00,02              1               9  \n",
       "4                  80                   00,04              6               6  "
      ]
     },
     "execution_count": 26,
     "metadata": {},
     "output_type": "execute_result"
    }
   ],
   "source": [
    "\n",
    "# renomeia colunas\n",
    "df = df.rename( columns = {  'cla_cliente'      :   'classificação'            ,   \n",
    "                             'tot_orcamento'    :   'total orçamento'          ,\n",
    "                             'fat_cliente'      :   'faturamento cliente'      ,\n",
    "                             'des_orcamento'    :   'desconto orçamento'       ,\n",
    "                             'por_desconto'     :   'porcentagem de desconto'  ,\n",
    "                             'fec_orcamentos'   :   'qtd. fechados'            ,\n",
    "                             'rec_orcamentos'   :   'qtd. recusados'           })\n",
    "\n",
    "# exibe os 5 primeiro registros\n",
    "df.head( 5 )\n"
   ]
  },
  {
   "cell_type": "code",
   "execution_count": 27,
   "metadata": {},
   "outputs": [
    {
     "name": "stdout",
     "output_type": "stream",
     "text": [
      "0000 : total de registros ( células ) vazios!\n"
     ]
    }
   ],
   "source": [
    "\n",
    "# verifica o total de registros na base de dados que estejam em branco ( nulos )\n",
    "print( \"{:0>4} : total de registros ( células ) vazios!\" .format( sum( df.isnull().sum())))\n"
   ]
  },
  {
   "cell_type": "code",
   "execution_count": 28,
   "metadata": {},
   "outputs": [
    {
     "data": {
      "text/plain": [
       "id_cliente                  int64\n",
       "classificação              object\n",
       "total orçamento             int64\n",
       "faturamento cliente         int64\n",
       "desconto orçamento          int64\n",
       "porcentagem de desconto    object\n",
       "qtd. fechados               int64\n",
       "qtd. recusados              int64\n",
       "dtype: object"
      ]
     },
     "execution_count": 28,
     "metadata": {},
     "output_type": "execute_result"
    }
   ],
   "source": [
    "\n",
    "# exibe o tipo de dados em cada coluna\n",
    "df.dtypes\n"
   ]
  },
  {
   "cell_type": "code",
   "execution_count": 29,
   "metadata": {},
   "outputs": [
    {
     "data": {
      "text/html": [
       "<div>\n",
       "<style scoped>\n",
       "    .dataframe tbody tr th:only-of-type {\n",
       "        vertical-align: middle;\n",
       "    }\n",
       "\n",
       "    .dataframe tbody tr th {\n",
       "        vertical-align: top;\n",
       "    }\n",
       "\n",
       "    .dataframe thead th {\n",
       "        text-align: right;\n",
       "    }\n",
       "</style>\n",
       "<table border=\"1\" class=\"dataframe\">\n",
       "  <thead>\n",
       "    <tr style=\"text-align: right;\">\n",
       "      <th></th>\n",
       "      <th>id_cliente</th>\n",
       "      <th>classificação</th>\n",
       "      <th>total orçamento</th>\n",
       "      <th>faturamento cliente</th>\n",
       "      <th>desconto orçamento</th>\n",
       "      <th>porcentagem de desconto</th>\n",
       "      <th>qtd. fechados</th>\n",
       "      <th>qtd. recusados</th>\n",
       "    </tr>\n",
       "  </thead>\n",
       "  <tbody>\n",
       "    <tr>\n",
       "      <th>249</th>\n",
       "      <td>349</td>\n",
       "      <td>Z</td>\n",
       "      <td>0</td>\n",
       "      <td>0</td>\n",
       "      <td>0</td>\n",
       "      <td>00,00</td>\n",
       "      <td>0</td>\n",
       "      <td>5</td>\n",
       "    </tr>\n",
       "    <tr>\n",
       "      <th>485</th>\n",
       "      <td>585</td>\n",
       "      <td>Z</td>\n",
       "      <td>0</td>\n",
       "      <td>0</td>\n",
       "      <td>0</td>\n",
       "      <td>00,00</td>\n",
       "      <td>0</td>\n",
       "      <td>8</td>\n",
       "    </tr>\n",
       "    <tr>\n",
       "      <th>639</th>\n",
       "      <td>739</td>\n",
       "      <td>Z</td>\n",
       "      <td>0</td>\n",
       "      <td>0</td>\n",
       "      <td>0</td>\n",
       "      <td>00,00</td>\n",
       "      <td>0</td>\n",
       "      <td>2</td>\n",
       "    </tr>\n",
       "    <tr>\n",
       "      <th>925</th>\n",
       "      <td>1025</td>\n",
       "      <td>Z</td>\n",
       "      <td>0</td>\n",
       "      <td>0</td>\n",
       "      <td>0</td>\n",
       "      <td>00,00</td>\n",
       "      <td>0</td>\n",
       "      <td>7</td>\n",
       "    </tr>\n",
       "    <tr>\n",
       "      <th>950</th>\n",
       "      <td>1050</td>\n",
       "      <td>Z</td>\n",
       "      <td>0</td>\n",
       "      <td>0</td>\n",
       "      <td>0</td>\n",
       "      <td>00,00</td>\n",
       "      <td>0</td>\n",
       "      <td>3</td>\n",
       "    </tr>\n",
       "    <tr>\n",
       "      <th>1239</th>\n",
       "      <td>1339</td>\n",
       "      <td>Z</td>\n",
       "      <td>0</td>\n",
       "      <td>0</td>\n",
       "      <td>0</td>\n",
       "      <td>00,00</td>\n",
       "      <td>0</td>\n",
       "      <td>5</td>\n",
       "    </tr>\n",
       "    <tr>\n",
       "      <th>1248</th>\n",
       "      <td>1348</td>\n",
       "      <td>Z</td>\n",
       "      <td>0</td>\n",
       "      <td>0</td>\n",
       "      <td>0</td>\n",
       "      <td>00,00</td>\n",
       "      <td>0</td>\n",
       "      <td>4</td>\n",
       "    </tr>\n",
       "    <tr>\n",
       "      <th>1579</th>\n",
       "      <td>1679</td>\n",
       "      <td>Z</td>\n",
       "      <td>0</td>\n",
       "      <td>0</td>\n",
       "      <td>0</td>\n",
       "      <td>00,00</td>\n",
       "      <td>0</td>\n",
       "      <td>2</td>\n",
       "    </tr>\n",
       "  </tbody>\n",
       "</table>\n",
       "</div>"
      ],
      "text/plain": [
       "      id_cliente classificação  total orçamento  faturamento cliente  \\\n",
       "249          349             Z                0                    0   \n",
       "485          585             Z                0                    0   \n",
       "639          739             Z                0                    0   \n",
       "925         1025             Z                0                    0   \n",
       "950         1050             Z                0                    0   \n",
       "1239        1339             Z                0                    0   \n",
       "1248        1348             Z                0                    0   \n",
       "1579        1679             Z                0                    0   \n",
       "\n",
       "      desconto orçamento porcentagem de desconto  qtd. fechados  \\\n",
       "249                    0                   00,00              0   \n",
       "485                    0                   00,00              0   \n",
       "639                    0                   00,00              0   \n",
       "925                    0                   00,00              0   \n",
       "950                    0                   00,00              0   \n",
       "1239                   0                   00,00              0   \n",
       "1248                   0                   00,00              0   \n",
       "1579                   0                   00,00              0   \n",
       "\n",
       "      qtd. recusados  \n",
       "249                5  \n",
       "485                8  \n",
       "639                2  \n",
       "925                7  \n",
       "950                3  \n",
       "1239               5  \n",
       "1248               4  \n",
       "1579               2  "
      ]
     },
     "execution_count": 29,
     "metadata": {},
     "output_type": "execute_result"
    }
   ],
   "source": [
    "\n",
    "# filtra registros de pessoas que não tenham apresentado gastos no período determinado, ou seja,\n",
    "# não são consideradas clientes no próximo período\n",
    "df[ df[ 'total orçamento' ] == 0 ]\n"
   ]
  },
  {
   "cell_type": "code",
   "execution_count": 30,
   "metadata": {},
   "outputs": [],
   "source": [
    "\n",
    "# remove registros de pessoas que no período não apresentaram gastos ( resíduo / lixo dep. DataScience )\n",
    "df = df.drop([ 249, 485, 639, 925, 950, 1239, 1248, 1579 ])\n"
   ]
  },
  {
   "cell_type": "code",
   "execution_count": 31,
   "metadata": {},
   "outputs": [
    {
     "data": {
      "text/html": [
       "<div>\n",
       "<style scoped>\n",
       "    .dataframe tbody tr th:only-of-type {\n",
       "        vertical-align: middle;\n",
       "    }\n",
       "\n",
       "    .dataframe tbody tr th {\n",
       "        vertical-align: top;\n",
       "    }\n",
       "\n",
       "    .dataframe thead th {\n",
       "        text-align: right;\n",
       "    }\n",
       "</style>\n",
       "<table border=\"1\" class=\"dataframe\">\n",
       "  <thead>\n",
       "    <tr style=\"text-align: right;\">\n",
       "      <th></th>\n",
       "      <th>id_cliente</th>\n",
       "      <th>classificação</th>\n",
       "      <th>total orçamento</th>\n",
       "      <th>faturamento cliente</th>\n",
       "      <th>desconto orçamento</th>\n",
       "      <th>porcentagem de desconto</th>\n",
       "      <th>qtd. fechados</th>\n",
       "      <th>qtd. recusados</th>\n",
       "    </tr>\n",
       "  </thead>\n",
       "  <tbody>\n",
       "  </tbody>\n",
       "</table>\n",
       "</div>"
      ],
      "text/plain": [
       "Empty DataFrame\n",
       "Columns: [id_cliente, classificação, total orçamento, faturamento cliente, desconto orçamento, porcentagem de desconto, qtd. fechados, qtd. recusados]\n",
       "Index: []"
      ]
     },
     "execution_count": 31,
     "metadata": {},
     "output_type": "execute_result"
    }
   ],
   "source": [
    "\n",
    "# verifica exclusão de registros\n",
    "df[ df[ 'total orçamento' ] == 0 ]\n"
   ]
  },
  {
   "cell_type": "code",
   "execution_count": 32,
   "metadata": {},
   "outputs": [],
   "source": [
    "\n",
    "# salva dataFrame sem registros inválidos\n",
    "df.to_csv( '2. baseDeDados_Limpa.csv', index=False )\n"
   ]
  },
  {
   "cell_type": "markdown",
   "metadata": {},
   "source": [
    "## Benchmark: Árvore de Decisão"
   ]
  },
  {
   "cell_type": "code",
   "execution_count": 33,
   "metadata": {},
   "outputs": [],
   "source": [
    "\n",
    "# desmembra base de dados em dados de entrada ( dfX ) e dados de saída ( dfy )\n",
    "dfX  =  df\n",
    "dfX  =  df.drop( [ 'classificação', 'porcentagem de desconto' ], axis=1 )\n",
    "dfy  =  df[ 'classificação' ]\n"
   ]
  },
  {
   "cell_type": "code",
   "execution_count": 34,
   "metadata": {},
   "outputs": [],
   "source": [
    "\n",
    "# a função train_tes_split desmembra o DataFrame em conjuntos de treinamento (aprendizado) e teste\n",
    "# O parâmetro test_size indica um valor percentual (expresso de modo decimal) de quantos registros\n",
    "# serão reservados para o teste, o residual será destinado para o treinamento\n",
    "X_train, X_test, y_train, y_true = train_test_split( dfX, dfy, test_size=0.30, random_state=42 )\n",
    "\n",
    "\n",
    "# atribui o tempo a variável\n",
    "t0 = time()\n",
    "\n",
    "\n",
    "# cria Árvore de Decisão de Classificação\n",
    "model = DecisionTreeClassifier( random_state=42, max_depth=2, min_samples_leaf=2, min_samples_split=2 )\n",
    "\n",
    "\n",
    "# treina o modelo\n",
    "model.fit( X_train, y_train )\n",
    "\n",
    "\n",
    "# faz previsões usando o modelo\n",
    "y_predTrain  =  model.predict( X_train )\n",
    "y_predTest   =  model.predict( X_test  )\n",
    "\n",
    "\n",
    "# atribui o tempo a variável\n",
    "t1  =  time()\n"
   ]
  },
  {
   "cell_type": "code",
   "execution_count": 35,
   "metadata": {},
   "outputs": [
    {
     "name": "stdout",
     "output_type": "stream",
     "text": [
      "   0.00 : Tempo de treinamento\n",
      "   0.58 : F1 Score de treinamento.\n",
      "   0.57 : F1 Score de teste.\n"
     ]
    }
   ],
   "source": [
    "\n",
    "# exibe quanto tempo o algoritmo levou para aprender “algo”\n",
    "print( \"{:7.2f} : Tempo de treinamento\" .format( round( t1-t0, 3)))    \n",
    "\n",
    "# calcula o f1_score do novo modelo e o exibe para o treinamento e para o teste\n",
    "print( '{:7.2f} : F1 Score de treinamento.' .format( mt.f1_score( y_train, y_predTrain, average='micro' )))\n",
    "print( '{:7.2f} : F1 Score de teste.'       .format( mt.f1_score( y_true,  y_predTest,  average='micro' )))\n"
   ]
  },
  {
   "cell_type": "code",
   "execution_count": 36,
   "metadata": {},
   "outputs": [
    {
     "data": {
      "text/plain": [
       "Text(180.98,0.5,'y: predição')"
      ]
     },
     "execution_count": 36,
     "metadata": {},
     "output_type": "execute_result"
    },
    {
     "data": {
      "image/png": "[encoded data removed]",
      "text/plain": [
       "<Figure size 1296x1008 with 2 Axes>"
      ]
     },
     "metadata": {},
     "output_type": "display_data"
    }
   ],
   "source": [
    "\n",
    "# define o tamanho do gráfico\n",
    "plt.figure( figsize = ( 18, 14 ))\n",
    "\n",
    "\n",
    "# exibe matriz confusão em cores\n",
    "labels   =   [ 'A', 'B', 'C', 'D', 'E', 'F', 'G', 'H', 'I', 'J', 'K', 'L' ]\n",
    "mat      =   confusion_matrix( y_true, y_predTest )\n",
    "sns.heatmap( mat, square=True, annot=True, fmt='d', cbar=True, xticklabels=labels, yticklabels=labels , cmap=\"Reds\" )\n",
    "\n",
    "\n",
    "# configura eixos\n",
    "plt.xlabel( 'y: verdade'  )\n",
    "plt.ylabel( 'y: predição' ) \n"
   ]
  },
  {
   "cell_type": "code",
   "execution_count": 37,
   "metadata": {},
   "outputs": [
    {
     "name": "stdout",
     "output_type": "stream",
     "text": [
      "[[  0   0   0  13   0   3   0   0   0   0   0   0]\n",
      " [  0   0   0   1   0   2   0   0   0   0   0   0]\n",
      " [  0   0   0   2   0   7   0   0   0   0   0   0]\n",
      " [  0   0   0  93   0  15   0   0   0   0   0   0]\n",
      " [  0   0   0  12   0  21   0   0   0   0   0   0]\n",
      " [  0   0   0  25   0  75   0   0   0   0   0   0]\n",
      " [  0   0   0   0   0   0   0   0  17   0   0   0]\n",
      " [  0   0   0   0   0   0   0   0   2   0   0   0]\n",
      " [  0   0   0   0   0   0   0   0  18   0   0   0]\n",
      " [  0   0   0   0   0   0   0   0   0 110   0   0]\n",
      " [  0   0   0   0   0   0   0   0   0  20   0   0]\n",
      " [  0   0   0   0   0   0   0   0   0  85   0   0]]\n"
     ]
    }
   ],
   "source": [
    "\n",
    "# exibe matriz confusão SEM cores\n",
    "print( mt.confusion_matrix( y_true, y_predTest ))\n"
   ]
  },
  {
   "cell_type": "code",
   "execution_count": 38,
   "metadata": {},
   "outputs": [
    {
     "name": "stdout",
     "output_type": "stream",
     "text": [
      "             precision    recall  f1-score   support\n",
      "\n",
      "          A       0.00      0.00      0.00        16\n",
      "          B       0.00      0.00      0.00         3\n",
      "          C       0.00      0.00      0.00         9\n",
      "          D       0.64      0.86      0.73       108\n",
      "          E       0.00      0.00      0.00        33\n",
      "          F       0.61      0.75      0.67       100\n",
      "          G       0.00      0.00      0.00        17\n",
      "          H       0.00      0.00      0.00         2\n",
      "          I       0.49      1.00      0.65        18\n",
      "          J       0.51      1.00      0.68       110\n",
      "          K       0.00      0.00      0.00        20\n",
      "          L       0.00      0.00      0.00        85\n",
      "\n",
      "avg / total       0.37      0.57      0.45       521\n",
      "\n"
     ]
    },
    {
     "name": "stderr",
     "output_type": "stream",
     "text": [
      "C:\\ProgramData\\Anaconda3\\lib\\site-packages\\sklearn\\metrics\\classification.py:1135: UndefinedMetricWarning: Precision and F-score are ill-defined and being set to 0.0 in labels with no predicted samples.\n",
      "  'precision', 'predicted', average, warn_for)\n"
     ]
    }
   ],
   "source": [
    "\n",
    "# exibe relatório de classificação, apresentando as principais métricas de avaliação de um modelo\n",
    "print( mt.classification_report( list( y_true ), list( y_predTest ), target_names=labels ))\n"
   ]
  },
  {
   "cell_type": "code",
   "execution_count": null,
   "metadata": {},
   "outputs": [],
   "source": []
  }
 ],
 "metadata": {
  "kernelspec": {
   "display_name": "Python 3",
   "language": "python",
   "name": "python3"
  },
  "language_info": {
   "codemirror_mode": {
    "name": "ipython",
    "version": 3
   },
   "file_extension": ".py",
   "mimetype": "text/x-python",
   "name": "python",
   "nbconvert_exporter": "python",
   "pygments_lexer": "ipython3",
   "version": "3.7.0"
  }
 },
 "nbformat": 4,
 "nbformat_minor": 2
}
